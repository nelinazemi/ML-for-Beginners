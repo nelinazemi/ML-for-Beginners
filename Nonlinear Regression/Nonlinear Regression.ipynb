{
 "cells": [
  {
   "cell_type": "markdown",
   "id": "b8c9ad2c",
   "metadata": {},
   "source": [
    "# Imports"
   ]
  },
  {
   "cell_type": "code",
   "execution_count": 1,
   "id": "e4d34976",
   "metadata": {},
   "outputs": [],
   "source": [
    "import pandas as pd\n",
    "import numpy as np\n",
    "import matplotlib.pyplot as plt\n",
    "\n",
    "from sklearn.preprocessing import PolynomialFeatures, SplineTransformer, PowerTransformer, FunctionTransformer, QuantileTransformer\n",
    "from sklearn.linear_model import LinearRegression, SGDRegressor\n",
    "from sklearn.pipeline import make_pipeline\n",
    "from sklearn.metrics import mean_absolute_error"
   ]
  },
  {
   "cell_type": "markdown",
   "id": "69e09531",
   "metadata": {},
   "source": [
    "# Dataset"
   ]
  },
  {
   "cell_type": "code",
   "execution_count": 9,
   "id": "028715a4",
   "metadata": {},
   "outputs": [
    {
     "data": {
      "text/plain": [
       "((352, 1), (352, 1))"
      ]
     },
     "execution_count": 9,
     "metadata": {},
     "output_type": "execute_result"
    }
   ],
   "source": [
    "df = pd.read_csv('data/auto-train-preprocessed.csv')\n",
    "train_set = np.array(df)\n",
    "\n",
    "x_train = train_set[:, :-1]\n",
    "y_train = train_set[:, -1:]\n",
    "\n",
    "x_train.shape, y_train.shape"
   ]
  },
  {
   "cell_type": "code",
   "execution_count": 12,
   "id": "d6f6018b",
   "metadata": {},
   "outputs": [],
   "source": [
    "phi_x_train = polynomial(x_train)"
   ]
  },
  {
   "cell_type": "code",
   "execution_count": 10,
   "id": "ec2e1c4e",
   "metadata": {},
   "outputs": [
    {
     "name": "stdout",
     "output_type": "stream",
     "text": [
      "(3, 1)\n"
     ]
    }
   ],
   "source": [
    "d = 2\n",
    "\n",
    "w = np.random.randn(d+1, 1)\n",
    "print(w.shape)\n",
    "\n",
    "eta = 0.5\n",
    "n_epochs = 2000"
   ]
  },
  {
   "cell_type": "markdown",
   "id": "0af2e75c",
   "metadata": {},
   "source": [
    "# Utils"
   ]
  },
  {
   "cell_type": "code",
   "execution_count": 2,
   "id": "bc9169c1-88e2-4462-afea-55b2fbe98a31",
   "metadata": {},
   "outputs": [],
   "source": [
    "def polynomial(x):\n",
    "    phi_x = np.array([x**i for i in range(d+1)])\n",
    "    phi_x = phi_x[..., 0].T\n",
    "    return phi_x"
   ]
  },
  {
   "cell_type": "code",
   "execution_count": 3,
   "id": "bab43734-3b20-4f70-b52d-5294ec58c1ee",
   "metadata": {},
   "outputs": [],
   "source": [
    "def linear_regression(x, w):\n",
    "    y_hat = x @ w\n",
    "    return y_hat"
   ]
  },
  {
   "cell_type": "code",
   "execution_count": 4,
   "id": "4d969c01-ae33-4894-8d6e-54b0bc089892",
   "metadata": {},
   "outputs": [],
   "source": [
    "def mse(y, y_hat):\n",
    "    loss = np.mean((y - y_hat)**2)\n",
    "    return loss"
   ]
  },
  {
   "cell_type": "code",
   "execution_count": 5,
   "id": "d4ede658-80a0-4577-a528-0528d9384c4a",
   "metadata": {},
   "outputs": [],
   "source": [
    "def gradient(x, y, y_hat):\n",
    "    grads = 2*(x.T @ (y_hat - y)) / y.shape[0]\n",
    "    return grads"
   ]
  },
  {
   "cell_type": "code",
   "execution_count": 6,
   "id": "e20bae21-8dd5-4fc0-81ff-58ff07d05ab8",
   "metadata": {},
   "outputs": [],
   "source": [
    "def gradient_descent(w, eta, grads):\n",
    "    w -= eta*grads\n",
    "    return w"
   ]
  },
  {
   "cell_type": "code",
   "execution_count": 7,
   "id": "8c9189a9-4e12-41d0-b891-70b8a1c358e2",
   "metadata": {},
   "outputs": [],
   "source": [
    "def mae(y, y_hat):\n",
    "    loss = np.mean(np.abs(y - y_hat))\n",
    "    return loss"
   ]
  },
  {
   "cell_type": "code",
   "execution_count": 8,
   "id": "2a04c5d6-8d2a-4c59-9a75-632c708bef15",
   "metadata": {},
   "outputs": [],
   "source": [
    "def r2(y, y_hat):\n",
    "    return 1 - np.sum((y - y_hat)**2) / np.sum((y - y.mean())**2)"
   ]
  },
  {
   "cell_type": "markdown",
   "id": "afde82ba",
   "metadata": {},
   "source": [
    "# Model Train"
   ]
  },
  {
   "cell_type": "code",
   "execution_count": 13,
   "id": "89ee2f80",
   "metadata": {},
   "outputs": [
    {
     "name": "stdout",
     "output_type": "stream",
     "text": [
      "Epoch=99, \t E=0.01387,\t w=[ 0.75195187 -1.6057776   0.9757579 ]\n",
      "Epoch=199, \t E=0.01386,\t w=[ 0.75262814 -1.61031317  0.98113276]\n",
      "Epoch=299, \t E=0.01386,\t w=[ 0.75323478 -1.61431069  0.98579975]\n",
      "Epoch=399, \t E=0.01386,\t w=[ 0.75376501 -1.61780458  0.98987864]\n",
      "Epoch=499, \t E=0.01386,\t w=[ 0.75422843 -1.62085825  0.99344359]\n",
      "Epoch=599, \t E=0.01386,\t w=[ 0.75463345 -1.62352715  0.99655936]\n",
      "Epoch=699, \t E=0.01386,\t w=[ 0.75498745 -1.62585978  0.99928255]\n",
      "Epoch=799, \t E=0.01386,\t w=[ 0.75529684 -1.62789849  1.00166262]\n",
      "Epoch=899, \t E=0.01386,\t w=[ 0.75556725 -1.62968033  1.0037428 ]\n",
      "Epoch=999, \t E=0.01386,\t w=[ 0.75580359 -1.63123766  1.00556088]\n",
      "Epoch=1099, \t E=0.01386,\t w=[ 0.75601015 -1.63259877  1.00714988]\n",
      "Epoch=1199, \t E=0.01386,\t w=[ 0.75619068 -1.63378838  1.00853867]\n",
      "Epoch=1299, \t E=0.01386,\t w=[ 0.75634847 -1.6348281   1.00975248]\n",
      "Epoch=1399, \t E=0.01386,\t w=[ 0.75648637 -1.63573681  1.01081334]\n",
      "Epoch=1499, \t E=0.01386,\t w=[ 0.7566069  -1.63653103  1.01174054]\n",
      "Epoch=1599, \t E=0.01386,\t w=[ 0.75671224 -1.63722518  1.01255091]\n",
      "Epoch=1699, \t E=0.01386,\t w=[ 0.75680431 -1.63783186  1.01325918]\n",
      "Epoch=1799, \t E=0.01386,\t w=[ 0.75688478 -1.63836211  1.0138782 ]\n",
      "Epoch=1899, \t E=0.01386,\t w=[ 0.75695511 -1.63882554  1.01441923]\n",
      "Epoch=1999, \t E=0.01386,\t w=[ 0.75701658 -1.63923058  1.01489209]\n"
     ]
    }
   ],
   "source": [
    "error_hist = []\n",
    "\n",
    "for epoch in range(n_epochs):\n",
    "    y_hat = linear_regression(phi_x_train, w)\n",
    "    \n",
    "    e = mse(y_train, y_hat)\n",
    "    error_hist.append(e)\n",
    "    \n",
    "    grads = gradient(phi_x_train, y_train, y_hat)\n",
    "    \n",
    "    w = gradient_descent(w, eta, grads)\n",
    "    \n",
    "    if (epoch+1) % 100 == 0:\n",
    "        print(f'Epoch={epoch}, \\t E={e:.4},\\t w={w.T[0]}')"
   ]
  },
  {
   "cell_type": "code",
   "execution_count": 14,
   "id": "47f40d4e",
   "metadata": {},
   "outputs": [
    {
     "data": {
      "text/plain": [
       "[<matplotlib.lines.Line2D at 0x19c5f93cdd0>]"
      ]
     },
     "execution_count": 14,
     "metadata": {},
     "output_type": "execute_result"
    },
    {
     "data": {
      "image/png": "[encoded data removed]",
      "text/plain": [
       "<Figure size 640x480 with 1 Axes>"
      ]
     },
     "metadata": {},
     "output_type": "display_data"
    }
   ],
   "source": [
    "plt.plot(error_hist)"
   ]
  },
  {
   "cell_type": "markdown",
   "id": "f3c60ac9",
   "metadata": {},
   "source": [
    "# Evaluation"
   ]
  },
  {
   "cell_type": "code",
   "execution_count": 15,
   "id": "3975fc0b",
   "metadata": {},
   "outputs": [
    {
     "data": {
      "text/plain": [
       "((40, 1), (40, 1))"
      ]
     },
     "execution_count": 15,
     "metadata": {},
     "output_type": "execute_result"
    }
   ],
   "source": [
    "df = pd.read_csv('data/auto-test-preprocessed.csv')\n",
    "test_set = np.array(df)\n",
    "\n",
    "x_test = test_set[:, :-1]\n",
    "y_test = test_set[:, -1:]\n",
    "\n",
    "x_test.shape, y_test.shape"
   ]
  },
  {
   "cell_type": "code",
   "execution_count": 16,
   "id": "ca948b39",
   "metadata": {},
   "outputs": [],
   "source": [
    "phi_x_test = polynomial(x_test)"
   ]
  },
  {
   "cell_type": "code",
   "execution_count": 17,
   "id": "27fd2730",
   "metadata": {},
   "outputs": [],
   "source": [
    "y_hat_test = linear_regression(phi_x_test, w)"
   ]
  },
  {
   "cell_type": "code",
   "execution_count": 18,
   "id": "8f720770",
   "metadata": {},
   "outputs": [
    {
     "data": {
      "text/plain": [
       "0.0786135308144137"
      ]
     },
     "execution_count": 18,
     "metadata": {},
     "output_type": "execute_result"
    }
   ],
   "source": [
    "mae(y_test, y_hat_test)"
   ]
  },
  {
   "cell_type": "markdown",
   "id": "d7e2417f",
   "metadata": {},
   "source": [
    "# Non-linear Regression (scikit-learning)"
   ]
  },
  {
   "cell_type": "code",
   "execution_count": 19,
   "id": "41a662d4",
   "metadata": {},
   "outputs": [
    {
     "data": {
      "text/plain": [
       "((352, 3), (40, 3))"
      ]
     },
     "execution_count": 19,
     "metadata": {},
     "output_type": "execute_result"
    }
   ],
   "source": [
    "poly = PolynomialFeatures(degree=2)\n",
    "\n",
    "x_train_poly = poly.fit_transform(x_train)\n",
    "x_test_poly = poly.transform(x_test)\n",
    "x_train_poly.shape, x_test_poly.shape"
   ]
  },
  {
   "cell_type": "code",
   "execution_count": null,
   "id": "a229b9fe",
   "metadata": {},
   "outputs": [],
   "source": []
  }
 ],
 "metadata": {
  "kernelspec": {
   "display_name": "Python 3 (ipykernel)",
   "language": "python",
   "name": "python3"
  },
  "language_info": {
   "codemirror_mode": {
    "name": "ipython",
    "version": 3
   },
   "file_extension": ".py",
   "mimetype": "text/x-python",
   "name": "python",
   "nbconvert_exporter": "python",
   "pygments_lexer": "ipython3",
   "version": "3.11.4"
  }
 },
 "nbformat": 4,
 "nbformat_minor": 5
}
