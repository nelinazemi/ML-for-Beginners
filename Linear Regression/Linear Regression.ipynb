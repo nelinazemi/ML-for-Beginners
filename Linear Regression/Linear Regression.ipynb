{
 "cells": [
  {
   "cell_type": "markdown",
   "id": "dade4abd",
   "metadata": {},
   "source": [
    "# Imports"
   ]
  },
  {
   "cell_type": "code",
   "execution_count": 1,
   "id": "abdba842",
   "metadata": {},
   "outputs": [],
   "source": [
    "import numpy as np\n",
    "import pandas as pd\n",
    "import matplotlib.pyplot as plt"
   ]
  },
  {
   "cell_type": "markdown",
   "id": "7f0b7bd1",
   "metadata": {},
   "source": [
    "# Dataset"
   ]
  },
  {
   "cell_type": "markdown",
   "id": "f7a1b6ff",
   "metadata": {},
   "source": [
    "### Load Dataset"
   ]
  },
  {
   "cell_type": "code",
   "execution_count": 2,
   "id": "1213b680",
   "metadata": {},
   "outputs": [],
   "source": [
    "df = pd.read_csv('data/student_loan_train.csv')"
   ]
  },
  {
   "cell_type": "code",
   "execution_count": 4,
   "id": "7bef8451-48ec-4654-907c-d2193e1cbf41",
   "metadata": {
    "tags": []
   },
   "outputs": [
    {
     "data": {
      "text/plain": [
       "(10, 2)"
      ]
     },
     "execution_count": 4,
     "metadata": {},
     "output_type": "execute_result"
    }
   ],
   "source": [
    "train_set = np.array(df)\n",
    "train_set.shape"
   ]
  },
  {
   "cell_type": "markdown",
   "id": "12d67e9a-c50a-4230-a097-3dd3339b4f41",
   "metadata": {
    "jp-MarkdownHeadingCollapsed": true,
    "tags": []
   },
   "source": [
    "### Split x & y"
   ]
  },
  {
   "cell_type": "code",
   "execution_count": 5,
   "id": "1bf5a7d5-ec30-42d5-aeb4-df8fb1022538",
   "metadata": {},
   "outputs": [
    {
     "data": {
      "text/plain": [
       "array([ 4.,  5.,  6.,  7.,  8.,  9., 10., 11., 12., 13.])"
      ]
     },
     "execution_count": 5,
     "metadata": {},
     "output_type": "execute_result"
    }
   ],
   "source": [
    "x_train = train_set[:, 0]\n",
    "x_train"
   ]
  },
  {
   "cell_type": "code",
   "execution_count": 6,
   "id": "86c7c94a-8709-434d-a021-0c3527e60011",
   "metadata": {},
   "outputs": [
    {
     "data": {
      "text/plain": [
       "array([ 347.1,  392.8,  478.8,  541.3,  633.3,  714.4,  803.5,  866.3,\n",
       "        959.9, 1071. ])"
      ]
     },
     "execution_count": 6,
     "metadata": {},
     "output_type": "execute_result"
    }
   ],
   "source": [
    "y_train = train_set[:, 1]\n",
    "y_train"
   ]
  },
  {
   "cell_type": "markdown",
   "id": "b566bd50-9693-4fe3-9cdf-bff16d95b3f6",
   "metadata": {
    "jp-MarkdownHeadingCollapsed": true,
    "tags": []
   },
   "source": [
    "### Visualize"
   ]
  },
  {
   "cell_type": "code",
   "execution_count": 7,
   "id": "db19f718-c4f7-4878-933f-f3366e46bbcc",
   "metadata": {},
   "outputs": [
    {
     "data": {
      "text/plain": [
       "<matplotlib.collections.PathCollection at 0x20acf8bcf90>"
      ]
     },
     "execution_count": 7,
     "metadata": {},
     "output_type": "execute_result"
    },
    {
     "data": {
      "image/png": "[encoded data removed]",
      "text/plain": [
       "<Figure size 640x480 with 1 Axes>"
      ]
     },
     "metadata": {},
     "output_type": "display_data"
    }
   ],
   "source": [
    "plt.scatter(x_train, y_train)"
   ]
  },
  {
   "cell_type": "markdown",
   "id": "14fc7d36-7ca8-49ca-b27c-df283263a683",
   "metadata": {
    "jp-MarkdownHeadingCollapsed": true,
    "tags": []
   },
   "source": [
    "# Utils"
   ]
  },
  {
   "cell_type": "code",
   "execution_count": 8,
   "id": "169a3183-d12d-4aff-9d29-f3ce0745e13e",
   "metadata": {},
   "outputs": [],
   "source": [
    "def linear_regression(x, w0, w1):\n",
    "    y_hat = w1*x + w0\n",
    "    return y_hat"
   ]
  },
  {
   "cell_type": "code",
   "execution_count": 9,
   "id": "3de38bfb-0cd0-4ef4-8810-94462066fcae",
   "metadata": {},
   "outputs": [],
   "source": [
    "def mse(y, y_hat):\n",
    "    loss = np.mean((y - y_hat)**2)\n",
    "    return loss"
   ]
  },
  {
   "cell_type": "code",
   "execution_count": 13,
   "id": "f726cb44",
   "metadata": {},
   "outputs": [],
   "source": [
    "def r2(y, y_hat):\n",
    "    return 1 - np.sum((y - y_hat)**2) / np.sum((y - y.mean())**2)"
   ]
  },
  {
   "cell_type": "markdown",
   "id": "69803991",
   "metadata": {},
   "source": [
    "# Train Model"
   ]
  },
  {
   "cell_type": "code",
   "execution_count": 10,
   "id": "aaa5064e",
   "metadata": {},
   "outputs": [],
   "source": [
    "w0, w1 = np.random.randn(), np.random.randn()\n",
    "eta = 0.01\n",
    "n_epochs = 10000"
   ]
  },
  {
   "cell_type": "code",
   "execution_count": 11,
   "id": "ff9ed150",
   "metadata": {},
   "outputs": [
    {
     "name": "stdout",
     "output_type": "stream",
     "text": [
      "Epoch=0, \t E=5.155e+05,\t w0=12.47,\t w1=129.1\n",
      "Epoch=100, \t E=242.6,\t w0=5.192,\t w1=79.6\n",
      "Epoch=200, \t E=239.8,\t w0=3.541,\t w1=79.77\n",
      "Epoch=300, \t E=238.0,\t w0=2.194,\t w1=79.91\n",
      "Epoch=400, \t E=236.8,\t w0=1.094,\t w1=80.03\n",
      "Epoch=500, \t E=235.9,\t w0=0.1957,\t w1=80.12\n",
      "Epoch=600, \t E=235.4,\t w0=-0.5374,\t w1=80.2\n",
      "Epoch=700, \t E=235.0,\t w0=-1.136,\t w1=80.26\n",
      "Epoch=800, \t E=234.8,\t w0=-1.625,\t w1=80.32\n",
      "Epoch=900, \t E=234.6,\t w0=-2.023,\t w1=80.36\n",
      "Epoch=1000, \t E=234.5,\t w0=-2.349,\t w1=80.39\n",
      "Epoch=1100, \t E=234.4,\t w0=-2.615,\t w1=80.42\n",
      "Epoch=1200, \t E=234.4,\t w0=-2.832,\t w1=80.44\n",
      "Epoch=1300, \t E=234.4,\t w0=-3.009,\t w1=80.46\n",
      "Epoch=1400, \t E=234.3,\t w0=-3.154,\t w1=80.48\n",
      "Epoch=1500, \t E=234.3,\t w0=-3.272,\t w1=80.49\n",
      "Epoch=1600, \t E=234.3,\t w0=-3.368,\t w1=80.5\n",
      "Epoch=1700, \t E=234.3,\t w0=-3.447,\t w1=80.51\n",
      "Epoch=1800, \t E=234.3,\t w0=-3.511,\t w1=80.52\n",
      "Epoch=1900, \t E=234.3,\t w0=-3.563,\t w1=80.52\n",
      "Epoch=2000, \t E=234.3,\t w0=-3.606,\t w1=80.53\n",
      "Epoch=2100, \t E=234.3,\t w0=-3.641,\t w1=80.53\n",
      "Epoch=2200, \t E=234.3,\t w0=-3.67,\t w1=80.53\n",
      "Epoch=2300, \t E=234.3,\t w0=-3.693,\t w1=80.53\n",
      "Epoch=2400, \t E=234.3,\t w0=-3.712,\t w1=80.54\n",
      "Epoch=2500, \t E=234.3,\t w0=-3.727,\t w1=80.54\n",
      "Epoch=2600, \t E=234.3,\t w0=-3.74,\t w1=80.54\n",
      "Epoch=2700, \t E=234.3,\t w0=-3.75,\t w1=80.54\n",
      "Epoch=2800, \t E=234.3,\t w0=-3.759,\t w1=80.54\n",
      "Epoch=2900, \t E=234.3,\t w0=-3.766,\t w1=80.54\n",
      "Epoch=3000, \t E=234.3,\t w0=-3.771,\t w1=80.54\n",
      "Epoch=3100, \t E=234.3,\t w0=-3.776,\t w1=80.54\n",
      "Epoch=3200, \t E=234.3,\t w0=-3.78,\t w1=80.54\n",
      "Epoch=3300, \t E=234.3,\t w0=-3.783,\t w1=80.54\n",
      "Epoch=3400, \t E=234.3,\t w0=-3.785,\t w1=80.54\n",
      "Epoch=3500, \t E=234.3,\t w0=-3.787,\t w1=80.54\n",
      "Epoch=3600, \t E=234.3,\t w0=-3.789,\t w1=80.54\n",
      "Epoch=3700, \t E=234.3,\t w0=-3.79,\t w1=80.54\n",
      "Epoch=3800, \t E=234.3,\t w0=-3.791,\t w1=80.54\n",
      "Epoch=3900, \t E=234.3,\t w0=-3.792,\t w1=80.55\n",
      "Epoch=4000, \t E=234.3,\t w0=-3.793,\t w1=80.55\n",
      "Epoch=4100, \t E=234.3,\t w0=-3.794,\t w1=80.55\n",
      "Epoch=4200, \t E=234.3,\t w0=-3.794,\t w1=80.55\n",
      "Epoch=4300, \t E=234.3,\t w0=-3.795,\t w1=80.55\n",
      "Epoch=4400, \t E=234.3,\t w0=-3.795,\t w1=80.55\n",
      "Epoch=4500, \t E=234.3,\t w0=-3.795,\t w1=80.55\n",
      "Epoch=4600, \t E=234.3,\t w0=-3.795,\t w1=80.55\n",
      "Epoch=4700, \t E=234.3,\t w0=-3.796,\t w1=80.55\n",
      "Epoch=4800, \t E=234.3,\t w0=-3.796,\t w1=80.55\n",
      "Epoch=4900, \t E=234.3,\t w0=-3.796,\t w1=80.55\n",
      "Epoch=5000, \t E=234.3,\t w0=-3.796,\t w1=80.55\n",
      "Epoch=5100, \t E=234.3,\t w0=-3.796,\t w1=80.55\n",
      "Epoch=5200, \t E=234.3,\t w0=-3.796,\t w1=80.55\n",
      "Epoch=5300, \t E=234.3,\t w0=-3.796,\t w1=80.55\n",
      "Epoch=5400, \t E=234.3,\t w0=-3.796,\t w1=80.55\n",
      "Epoch=5500, \t E=234.3,\t w0=-3.796,\t w1=80.55\n",
      "Epoch=5600, \t E=234.3,\t w0=-3.796,\t w1=80.55\n",
      "Epoch=5700, \t E=234.3,\t w0=-3.796,\t w1=80.55\n",
      "Epoch=5800, \t E=234.3,\t w0=-3.796,\t w1=80.55\n",
      "Epoch=5900, \t E=234.3,\t w0=-3.796,\t w1=80.55\n",
      "Epoch=6000, \t E=234.3,\t w0=-3.796,\t w1=80.55\n",
      "Epoch=6100, \t E=234.3,\t w0=-3.796,\t w1=80.55\n",
      "Epoch=6200, \t E=234.3,\t w0=-3.796,\t w1=80.55\n",
      "Epoch=6300, \t E=234.3,\t w0=-3.796,\t w1=80.55\n",
      "Epoch=6400, \t E=234.3,\t w0=-3.796,\t w1=80.55\n",
      "Epoch=6500, \t E=234.3,\t w0=-3.796,\t w1=80.55\n",
      "Epoch=6600, \t E=234.3,\t w0=-3.796,\t w1=80.55\n",
      "Epoch=6700, \t E=234.3,\t w0=-3.796,\t w1=80.55\n",
      "Epoch=6800, \t E=234.3,\t w0=-3.796,\t w1=80.55\n",
      "Epoch=6900, \t E=234.3,\t w0=-3.796,\t w1=80.55\n",
      "Epoch=7000, \t E=234.3,\t w0=-3.796,\t w1=80.55\n",
      "Epoch=7100, \t E=234.3,\t w0=-3.796,\t w1=80.55\n",
      "Epoch=7200, \t E=234.3,\t w0=-3.796,\t w1=80.55\n",
      "Epoch=7300, \t E=234.3,\t w0=-3.796,\t w1=80.55\n",
      "Epoch=7400, \t E=234.3,\t w0=-3.796,\t w1=80.55\n",
      "Epoch=7500, \t E=234.3,\t w0=-3.796,\t w1=80.55\n",
      "Epoch=7600, \t E=234.3,\t w0=-3.796,\t w1=80.55\n",
      "Epoch=7700, \t E=234.3,\t w0=-3.796,\t w1=80.55\n",
      "Epoch=7800, \t E=234.3,\t w0=-3.796,\t w1=80.55\n",
      "Epoch=7900, \t E=234.3,\t w0=-3.796,\t w1=80.55\n",
      "Epoch=8000, \t E=234.3,\t w0=-3.796,\t w1=80.55\n",
      "Epoch=8100, \t E=234.3,\t w0=-3.796,\t w1=80.55\n",
      "Epoch=8200, \t E=234.3,\t w0=-3.796,\t w1=80.55\n",
      "Epoch=8300, \t E=234.3,\t w0=-3.796,\t w1=80.55\n",
      "Epoch=8400, \t E=234.3,\t w0=-3.796,\t w1=80.55\n",
      "Epoch=8500, \t E=234.3,\t w0=-3.796,\t w1=80.55\n",
      "Epoch=8600, \t E=234.3,\t w0=-3.796,\t w1=80.55\n",
      "Epoch=8700, \t E=234.3,\t w0=-3.796,\t w1=80.55\n",
      "Epoch=8800, \t E=234.3,\t w0=-3.796,\t w1=80.55\n",
      "Epoch=8900, \t E=234.3,\t w0=-3.796,\t w1=80.55\n",
      "Epoch=9000, \t E=234.3,\t w0=-3.796,\t w1=80.55\n",
      "Epoch=9100, \t E=234.3,\t w0=-3.796,\t w1=80.55\n",
      "Epoch=9200, \t E=234.3,\t w0=-3.796,\t w1=80.55\n",
      "Epoch=9300, \t E=234.3,\t w0=-3.796,\t w1=80.55\n",
      "Epoch=9400, \t E=234.3,\t w0=-3.796,\t w1=80.55\n",
      "Epoch=9500, \t E=234.3,\t w0=-3.796,\t w1=80.55\n",
      "Epoch=9600, \t E=234.3,\t w0=-3.796,\t w1=80.55\n",
      "Epoch=9700, \t E=234.3,\t w0=-3.796,\t w1=80.55\n",
      "Epoch=9800, \t E=234.3,\t w0=-3.796,\t w1=80.55\n",
      "Epoch=9900, \t E=234.3,\t w0=-3.796,\t w1=80.55\n"
     ]
    }
   ],
   "source": [
    "for epoch in range(n_epochs):\n",
    "    y_hat = linear_regression(x_train, w0, w1)\n",
    "    \n",
    "    e = mse(y_train, y_hat)\n",
    "    \n",
    "    grad_w0 = 2 * np.mean(y_hat - y_train)\n",
    "    grad_w1 = 2 * np.mean(x_train * (y_hat - y_train))\n",
    "    \n",
    "    w0 -= eta * grad_w0\n",
    "    w1 -= eta * grad_w1\n",
    "    \n",
    "    if epoch % 100 == 0:\n",
    "        print(f'Epoch={epoch}, \\t E={e:.4},\\t w0={w0:.4},\\t w1={w1:.4}')"
   ]
  },
  {
   "cell_type": "code",
   "execution_count": 12,
   "id": "ec0c3748",
   "metadata": {},
   "outputs": [
    {
     "data": {
      "text/plain": [
       "Text(0.5, 1.0, 'y=80.55x-3.796')"
      ]
     },
     "execution_count": 12,
     "metadata": {},
     "output_type": "execute_result"
    },
    {
     "data": {
      "image/png": "[encoded data removed]",
      "text/plain": [
       "<Figure size 640x480 with 1 Axes>"
      ]
     },
     "metadata": {},
     "output_type": "display_data"
    }
   ],
   "source": [
    "plt.scatter(x_train, y_train)\n",
    "y_hat = linear_regression(x_train, w0, w1)\n",
    "plt.plot(x_train, y_hat, 'r')\n",
    "plt.title(f'y={w1:.4}x{w0:.4}')"
   ]
  },
  {
   "cell_type": "markdown",
   "id": "0bc1f068",
   "metadata": {},
   "source": [
    "# Evaluation"
   ]
  },
  {
   "cell_type": "code",
   "execution_count": 14,
   "id": "30e2a315",
   "metadata": {},
   "outputs": [
    {
     "data": {
      "text/plain": [
       "0.9956415176868934"
      ]
     },
     "execution_count": 14,
     "metadata": {},
     "output_type": "execute_result"
    }
   ],
   "source": [
    "y_hat = linear_regression(x_train, w0, w1)\n",
    "r2(y_train, y_hat)"
   ]
  },
  {
   "cell_type": "markdown",
   "id": "db2d03ee",
   "metadata": {},
   "source": [
    "# Test Model"
   ]
  },
  {
   "cell_type": "code",
   "execution_count": 17,
   "id": "1a8bc4e8-8b90-4a62-a62e-d4da61fd4cf5",
   "metadata": {},
   "outputs": [
    {
     "data": {
      "text/html": [
       "<div>\n",
       "<style scoped>\n",
       "    .dataframe tbody tr th:only-of-type {\n",
       "        vertical-align: middle;\n",
       "    }\n",
       "\n",
       "    .dataframe tbody tr th {\n",
       "        vertical-align: top;\n",
       "    }\n",
       "\n",
       "    .dataframe thead th {\n",
       "        text-align: right;\n",
       "    }\n",
       "</style>\n",
       "<table border=\"1\" class=\"dataframe\">\n",
       "  <thead>\n",
       "    <tr style=\"text-align: right;\">\n",
       "      <th></th>\n",
       "      <th>year</th>\n",
       "      <th>debt</th>\n",
       "    </tr>\n",
       "  </thead>\n",
       "  <tbody>\n",
       "    <tr>\n",
       "      <th>0</th>\n",
       "      <td>14</td>\n",
       "      <td>1155.83</td>\n",
       "    </tr>\n",
       "    <tr>\n",
       "      <th>1</th>\n",
       "      <td>15</td>\n",
       "      <td>1271.84</td>\n",
       "    </tr>\n",
       "    <tr>\n",
       "      <th>2</th>\n",
       "      <td>16</td>\n",
       "      <td>1358.13</td>\n",
       "    </tr>\n",
       "  </tbody>\n",
       "</table>\n",
       "</div>"
      ],
      "text/plain": [
       "   year     debt\n",
       "0    14  1155.83\n",
       "1    15  1271.84\n",
       "2    16  1358.13"
      ]
     },
     "execution_count": 17,
     "metadata": {},
     "output_type": "execute_result"
    }
   ],
   "source": [
    "df = pd.read_csv('data/student_loan_test.csv')\n",
    "test_set = np.array(df)\n",
    "x_test = test_set[:, 0]\n",
    "y_test = test_set[:, 1]\n",
    "\n",
    "df"
   ]
  },
  {
   "cell_type": "code",
   "execution_count": 19,
   "id": "b5973970-a313-48fe-962a-448e71da0070",
   "metadata": {},
   "outputs": [],
   "source": [
    "y_hat_test = linear_regression(x_test, w0, w1)"
   ]
  },
  {
   "cell_type": "code",
   "execution_count": 20,
   "id": "21587e69-bc8d-42f3-8a7e-f8bb92af1033",
   "metadata": {},
   "outputs": [
    {
     "data": {
      "image/png": "[encoded data removed]",
      "text/plain": [
       "<Figure size 640x480 with 1 Axes>"
      ]
     },
     "metadata": {},
     "output_type": "display_data"
    }
   ],
   "source": [
    "plt.scatter(x_train, y_train)\n",
    "plt.scatter(x_test, y_test)\n",
    "\n",
    "x = np.linspace(4, 16, 100)\n",
    "y_hat = linear_regression(x, w0, w1)\n",
    "plt.plot(x, y_hat, 'r');"
   ]
  },
  {
   "cell_type": "code",
   "execution_count": 21,
   "id": "cd08f7b3-a7c0-496b-81b0-a7dde7f8f19f",
   "metadata": {},
   "outputs": [
    {
     "data": {
      "text/plain": [
       "3643.8609053276177"
      ]
     },
     "execution_count": 21,
     "metadata": {},
     "output_type": "execute_result"
    }
   ],
   "source": [
    "mse(y_test, y_hat_test)"
   ]
  },
  {
   "cell_type": "code",
   "execution_count": 23,
   "id": "2a3f2d43-8604-4da4-b644-98cc98821f0c",
   "metadata": {},
   "outputs": [
    {
     "data": {
      "text/plain": [
       "0.4695944687914655"
      ]
     },
     "execution_count": 23,
     "metadata": {},
     "output_type": "execute_result"
    }
   ],
   "source": [
    "r2(y_test, y_hat_test)"
   ]
  }
 ],
 "metadata": {
  "kernelspec": {
   "display_name": "Python 3 (ipykernel)",
   "language": "python",
   "name": "python3"
  },
  "language_info": {
   "codemirror_mode": {
    "name": "ipython",
    "version": 3
   },
   "file_extension": ".py",
   "mimetype": "text/x-python",
   "name": "python",
   "nbconvert_exporter": "python",
   "pygments_lexer": "ipython3",
   "version": "3.11.4"
  }
 },
 "nbformat": 4,
 "nbformat_minor": 5
}
